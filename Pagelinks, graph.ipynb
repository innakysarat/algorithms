{
 "cells": [
  {
   "cell_type": "code",
   "execution_count": 5,
   "id": "469d2c86",
   "metadata": {},
   "outputs": [],
   "source": [
    "from collections import namedtuple\n",
    "from collections import defaultdict\n",
    "import pandas as pd\n",
    "import csv\n",
    "from heapq import heappop, heappush"
   ]
  },
  {
   "cell_type": "markdown",
   "id": "0ca89af4",
   "metadata": {},
   "source": [
    "# Create a class for the graph"
   ]
  },
  {
   "cell_type": "code",
   "execution_count": 59,
   "id": "823e92e7",
   "metadata": {},
   "outputs": [],
   "source": [
    "Edge = namedtuple('Edge', 'src dst dist')\n",
    "\n",
    "\n",
    "class Graph:\n",
    "    \n",
    "    def __init__(self):\n",
    "        self.neighbors = defaultdict(list)\n",
    "        self.nodes = set()\n",
    "        \n",
    "    def add_edge(self, edge: Edge):\n",
    "        self.neighbors[edge.src].append(edge)\n",
    "        self.nodes.add(edge.src)\n",
    "        self.nodes.add(edge.dst)\n",
    "        \n",
    "    def __getitem__(self, item):\n",
    "        return self.neighbors.get(item)"
   ]
  },
  {
   "cell_type": "markdown",
   "id": "b5d57769",
   "metadata": {},
   "source": [
    "Read csv files"
   ]
  },
  {
   "cell_type": "code",
   "execution_count": 7,
   "id": "d221a988",
   "metadata": {},
   "outputs": [],
   "source": [
    "pagelinks = pd.read_csv('simple_english_wiki/simple_english_wiki_pagelinks.csv')\n",
    "pages = pd.read_csv('simple_english_wiki/simple_english_wiki_pages.csv')"
   ]
  },
  {
   "cell_type": "code",
   "execution_count": 44,
   "id": "66bc1aaf",
   "metadata": {},
   "outputs": [
    {
     "data": {
      "text/html": [
       "<div>\n",
       "<style scoped>\n",
       "    .dataframe tbody tr th:only-of-type {\n",
       "        vertical-align: middle;\n",
       "    }\n",
       "\n",
       "    .dataframe tbody tr th {\n",
       "        vertical-align: top;\n",
       "    }\n",
       "\n",
       "    .dataframe thead th {\n",
       "        text-align: right;\n",
       "    }\n",
       "</style>\n",
       "<table border=\"1\" class=\"dataframe\">\n",
       "  <thead>\n",
       "    <tr style=\"text-align: right;\">\n",
       "      <th></th>\n",
       "      <th>pl_from</th>\n",
       "      <th>pl_title</th>\n",
       "      <th>pl_to</th>\n",
       "    </tr>\n",
       "  </thead>\n",
       "  <tbody>\n",
       "    <tr>\n",
       "      <th>0</th>\n",
       "      <td>1</td>\n",
       "      <td>1320</td>\n",
       "      <td>39168</td>\n",
       "    </tr>\n",
       "    <tr>\n",
       "      <th>1</th>\n",
       "      <td>7560</td>\n",
       "      <td>1320</td>\n",
       "      <td>39168</td>\n",
       "    </tr>\n",
       "    <tr>\n",
       "      <th>2</th>\n",
       "      <td>7873</td>\n",
       "      <td>1320</td>\n",
       "      <td>39168</td>\n",
       "    </tr>\n",
       "    <tr>\n",
       "      <th>3</th>\n",
       "      <td>8393</td>\n",
       "      <td>1320</td>\n",
       "      <td>39168</td>\n",
       "    </tr>\n",
       "    <tr>\n",
       "      <th>4</th>\n",
       "      <td>8719</td>\n",
       "      <td>1320</td>\n",
       "      <td>39168</td>\n",
       "    </tr>\n",
       "    <tr>\n",
       "      <th>...</th>\n",
       "      <td>...</td>\n",
       "      <td>...</td>\n",
       "      <td>...</td>\n",
       "    </tr>\n",
       "    <tr>\n",
       "      <th>6724923</th>\n",
       "      <td>836310</td>\n",
       "      <td>Anglo-Manipuri_War</td>\n",
       "      <td>836099</td>\n",
       "    </tr>\n",
       "    <tr>\n",
       "      <th>6724924</th>\n",
       "      <td>836311</td>\n",
       "      <td>Anglo-Manipuri_War</td>\n",
       "      <td>836099</td>\n",
       "    </tr>\n",
       "    <tr>\n",
       "      <th>6724925</th>\n",
       "      <td>836313</td>\n",
       "      <td>Battle_of_Imphal</td>\n",
       "      <td>836107</td>\n",
       "    </tr>\n",
       "    <tr>\n",
       "      <th>6724926</th>\n",
       "      <td>836316</td>\n",
       "      <td>Alfredo_Borrero</td>\n",
       "      <td>834696</td>\n",
       "    </tr>\n",
       "    <tr>\n",
       "      <th>6724927</th>\n",
       "      <td>836341</td>\n",
       "      <td>Nokia_6260_slide</td>\n",
       "      <td>833009</td>\n",
       "    </tr>\n",
       "  </tbody>\n",
       "</table>\n",
       "<p>6724928 rows × 3 columns</p>\n",
       "</div>"
      ],
      "text/plain": [
       "         pl_from            pl_title   pl_to\n",
       "0              1                1320   39168\n",
       "1           7560                1320   39168\n",
       "2           7873                1320   39168\n",
       "3           8393                1320   39168\n",
       "4           8719                1320   39168\n",
       "...          ...                 ...     ...\n",
       "6724923   836310  Anglo-Manipuri_War  836099\n",
       "6724924   836311  Anglo-Manipuri_War  836099\n",
       "6724925   836313    Battle_of_Imphal  836107\n",
       "6724926   836316     Alfredo_Borrero  834696\n",
       "6724927   836341    Nokia_6260_slide  833009\n",
       "\n",
       "[6724928 rows x 3 columns]"
      ]
     },
     "execution_count": 44,
     "metadata": {},
     "output_type": "execute_result"
    }
   ],
   "source": [
    "pagelinks"
   ]
  },
  {
   "cell_type": "code",
   "execution_count": 8,
   "id": "164cd34e",
   "metadata": {},
   "outputs": [
    {
     "data": {
      "text/html": [
       "<div>\n",
       "<style scoped>\n",
       "    .dataframe tbody tr th:only-of-type {\n",
       "        vertical-align: middle;\n",
       "    }\n",
       "\n",
       "    .dataframe tbody tr th {\n",
       "        vertical-align: top;\n",
       "    }\n",
       "\n",
       "    .dataframe thead th {\n",
       "        text-align: right;\n",
       "    }\n",
       "</style>\n",
       "<table border=\"1\" class=\"dataframe\">\n",
       "  <thead>\n",
       "    <tr style=\"text-align: right;\">\n",
       "      <th></th>\n",
       "      <th>pl_from</th>\n",
       "      <th>pl_title</th>\n",
       "      <th>pl_to</th>\n",
       "      <th>page_id</th>\n",
       "      <th>page_title</th>\n",
       "    </tr>\n",
       "  </thead>\n",
       "  <tbody>\n",
       "    <tr>\n",
       "      <th>0</th>\n",
       "      <td>1</td>\n",
       "      <td>1320</td>\n",
       "      <td>39168</td>\n",
       "      <td>1</td>\n",
       "      <td>April</td>\n",
       "    </tr>\n",
       "    <tr>\n",
       "      <th>1</th>\n",
       "      <td>1</td>\n",
       "      <td>1502</td>\n",
       "      <td>8495</td>\n",
       "      <td>1</td>\n",
       "      <td>April</td>\n",
       "    </tr>\n",
       "    <tr>\n",
       "      <th>2</th>\n",
       "      <td>1</td>\n",
       "      <td>1509</td>\n",
       "      <td>11676</td>\n",
       "      <td>1</td>\n",
       "      <td>April</td>\n",
       "    </tr>\n",
       "    <tr>\n",
       "      <th>3</th>\n",
       "      <td>1</td>\n",
       "      <td>1519</td>\n",
       "      <td>10141</td>\n",
       "      <td>1</td>\n",
       "      <td>April</td>\n",
       "    </tr>\n",
       "    <tr>\n",
       "      <th>4</th>\n",
       "      <td>1</td>\n",
       "      <td>1533</td>\n",
       "      <td>8497</td>\n",
       "      <td>1</td>\n",
       "      <td>April</td>\n",
       "    </tr>\n",
       "    <tr>\n",
       "      <th>...</th>\n",
       "      <td>...</td>\n",
       "      <td>...</td>\n",
       "      <td>...</td>\n",
       "      <td>...</td>\n",
       "      <td>...</td>\n",
       "    </tr>\n",
       "    <tr>\n",
       "      <th>6724923</th>\n",
       "      <td>836104</td>\n",
       "      <td>Ethel_Grimwood</td>\n",
       "      <td>836103</td>\n",
       "      <td>836104</td>\n",
       "      <td>Ethel_St._Clair_Grimwood</td>\n",
       "    </tr>\n",
       "    <tr>\n",
       "      <th>6724924</th>\n",
       "      <td>836238</td>\n",
       "      <td>Competitive_eating</td>\n",
       "      <td>298847</td>\n",
       "      <td>836238</td>\n",
       "      <td>Eating_contest</td>\n",
       "    </tr>\n",
       "    <tr>\n",
       "      <th>6724925</th>\n",
       "      <td>836251</td>\n",
       "      <td>Rio_Tuquesa_tree_frog</td>\n",
       "      <td>831852</td>\n",
       "      <td>836251</td>\n",
       "      <td>Dendropsophus_subocularis</td>\n",
       "    </tr>\n",
       "    <tr>\n",
       "      <th>6724926</th>\n",
       "      <td>836311</td>\n",
       "      <td>Anglo-Manipuri_War</td>\n",
       "      <td>836099</td>\n",
       "      <td>836311</td>\n",
       "      <td>Anglo-Manipur_War</td>\n",
       "    </tr>\n",
       "    <tr>\n",
       "      <th>6724927</th>\n",
       "      <td>836316</td>\n",
       "      <td>Alfredo_Borrero</td>\n",
       "      <td>834696</td>\n",
       "      <td>836316</td>\n",
       "      <td>Alfredo_Borrero_Vega</td>\n",
       "    </tr>\n",
       "  </tbody>\n",
       "</table>\n",
       "<p>6724928 rows × 5 columns</p>\n",
       "</div>"
      ],
      "text/plain": [
       "         pl_from               pl_title   pl_to  page_id  \\\n",
       "0              1                   1320   39168        1   \n",
       "1              1                   1502    8495        1   \n",
       "2              1                   1509   11676        1   \n",
       "3              1                   1519   10141        1   \n",
       "4              1                   1533    8497        1   \n",
       "...          ...                    ...     ...      ...   \n",
       "6724923   836104         Ethel_Grimwood  836103   836104   \n",
       "6724924   836238     Competitive_eating  298847   836238   \n",
       "6724925   836251  Rio_Tuquesa_tree_frog  831852   836251   \n",
       "6724926   836311     Anglo-Manipuri_War  836099   836311   \n",
       "6724927   836316        Alfredo_Borrero  834696   836316   \n",
       "\n",
       "                        page_title  \n",
       "0                            April  \n",
       "1                            April  \n",
       "2                            April  \n",
       "3                            April  \n",
       "4                            April  \n",
       "...                            ...  \n",
       "6724923   Ethel_St._Clair_Grimwood  \n",
       "6724924             Eating_contest  \n",
       "6724925  Dendropsophus_subocularis  \n",
       "6724926          Anglo-Manipur_War  \n",
       "6724927       Alfredo_Borrero_Vega  \n",
       "\n",
       "[6724928 rows x 5 columns]"
      ]
     },
     "execution_count": 8,
     "metadata": {},
     "output_type": "execute_result"
    }
   ],
   "source": [
    "df = pd.merge(pagelinks, pages, how='inner', left_on='pl_from', right_on='page_id')\n",
    "df"
   ]
  },
  {
   "cell_type": "markdown",
   "id": "11457f99",
   "metadata": {},
   "source": [
    "Write the update dataframe to the new file"
   ]
  },
  {
   "cell_type": "code",
   "execution_count": 9,
   "id": "a45876e2",
   "metadata": {},
   "outputs": [],
   "source": [
    "df.to_csv('simple_english_wiki/additional.csv') "
   ]
  },
  {
   "cell_type": "markdown",
   "id": "3d1e50cb",
   "metadata": {},
   "source": [
    "Construct a graph from the given file"
   ]
  },
  {
   "cell_type": "code",
   "execution_count": 3,
   "id": "d8980ed6",
   "metadata": {},
   "outputs": [],
   "source": [
    "def work_with_file(path, g):\n",
    "    with open(path) as file:\n",
    "        csvreader = csv.reader(file)\n",
    "        header = next(csvreader)\n",
    "        rows = list()\n",
    "        for row in csvreader:\n",
    "            edge = Edge(row[1], row[3], 1)\n",
    "            g.add_edge(edge)"
   ]
  },
  {
   "cell_type": "code",
   "execution_count": 6,
   "id": "4b9f4f89",
   "metadata": {},
   "outputs": [],
   "source": [
    "g = Graph()\n",
    "work_with_file('simple_english_wiki/additional.csv', g)"
   ]
  },
  {
   "cell_type": "markdown",
   "id": "750a6548",
   "metadata": {},
   "source": [
    "# Dijkstra's algorithm "
   ]
  },
  {
   "cell_type": "code",
   "execution_count": 16,
   "id": "fc1c40fa",
   "metadata": {},
   "outputs": [],
   "source": [
    "# V - vertices\n",
    "# E - edges\n",
    "\n",
    "def dijkstra(graph: Graph, start):\n",
    "    heap, seen_vertices, min_distances = [(0, start)], set(), {start: 0}\n",
    "    steps = []\n",
    "    while heap: # O(V)\n",
    "        curr_distance, current_vertex = heappop(heap) #O(logV) # start in vertex with min score\n",
    "        if current_vertex not in seen_vertices:\n",
    "            \n",
    "            for _, next_vertex, distance in graph.neighbors.get(current_vertex, []): # O(E)\n",
    "                if next_vertex in seen_vertices:\n",
    "                    continue\n",
    "                    \n",
    "                prev_min_distance = min_distances.get(next_vertex)\n",
    "                new_distance = curr_distance + distance\n",
    "                \n",
    "                if prev_min_distance is None or new_distance < prev_min_distance:\n",
    "                    min_distances[next_vertex] = new_distance\n",
    "                    heappush(heap, (new_distance, next_vertex)) # O(logV)\n",
    "                    \n",
    "            seen_vertices.add(current_vertex)\n",
    "\n",
    "    return min_distances"
   ]
  },
  {
   "cell_type": "code",
   "execution_count": 65,
   "id": "b96a2ee3",
   "metadata": {},
   "outputs": [
    {
     "name": "stdout",
     "output_type": "stream",
     "text": [
      "Algorithm id = [170677]\n",
      "Analytics id = [747593]\n"
     ]
    }
   ],
   "source": [
    "print(\"Algorithm id =\", str(df[df['page_title']=='Algorithm'].page_id.unique()))\n",
    "print(\"Analytics id =\", str(df[df['page_title']=='Analytics'].page_id.unique()))"
   ]
  },
  {
   "cell_type": "markdown",
   "id": "5862ee2d",
   "metadata": {},
   "source": [
    "Apply dijkstra's algorithm to the page Analytics"
   ]
  },
  {
   "cell_type": "code",
   "execution_count": 17,
   "id": "013c31f2",
   "metadata": {},
   "outputs": [],
   "source": [
    "min_dist = dijkstra(g, '747593')"
   ]
  },
  {
   "cell_type": "markdown",
   "id": "b635e2e6",
   "metadata": {},
   "source": [
    "Find shortest path to the page Algorithm"
   ]
  },
  {
   "cell_type": "code",
   "execution_count": 20,
   "id": "0eff5038",
   "metadata": {},
   "outputs": [
    {
     "data": {
      "text/plain": [
       "4"
      ]
     },
     "execution_count": 20,
     "metadata": {},
     "output_type": "execute_result"
    }
   ],
   "source": [
    "min_dist['170677']"
   ]
  },
  {
   "cell_type": "markdown",
   "id": "932bbfd6",
   "metadata": {},
   "source": [
    "# Implementation of Dijkstra's algorithm with path"
   ]
  },
  {
   "cell_type": "code",
   "execution_count": 21,
   "id": "bbab1888",
   "metadata": {},
   "outputs": [],
   "source": [
    "def dijkstra_with_path(graph: Graph, start):\n",
    "    heap, seen_vertices, min_distances = [(0, start)], set(), {start: (0, [])}\n",
    "    steps = []\n",
    "    while heap: # O(V)\n",
    "        curr_distance, current_vertex = heappop(heap) #O(logV) # start in vertex with min score\n",
    "        if current_vertex not in seen_vertices:\n",
    "            \n",
    "            for _, next_vertex, distance in graph.neighbors.get(current_vertex, []): # O(E)\n",
    "                if next_vertex in seen_vertices:\n",
    "                    continue\n",
    "                    \n",
    "                prev_min_distance = min_distances.get(next_vertex)\n",
    "                new_distance = curr_distance + distance\n",
    "                \n",
    "                if prev_min_distance is None or new_distance < prev_min_distance[0]:\n",
    "                    min_distances[next_vertex] = new_distance, min_distances[current_vertex][1] + [current_vertex]\n",
    "                    heappush(heap, (new_distance, next_vertex)) # O(logV)\n",
    "                    \n",
    "            seen_vertices.add(current_vertex)\n",
    "\n",
    "    return min_distances"
   ]
  },
  {
   "cell_type": "markdown",
   "id": "70a6fc1f",
   "metadata": {},
   "source": [
    "Apply dijkstra's algorithm to the page Analytics and check the shortest path to the page Algorithm"
   ]
  },
  {
   "cell_type": "code",
   "execution_count": 22,
   "id": "00ec05d1",
   "metadata": {},
   "outputs": [],
   "source": [
    "min_distances_with_path = dijkstra_with_path(g, '747593')"
   ]
  },
  {
   "cell_type": "code",
   "execution_count": 28,
   "id": "c7d9f79b",
   "metadata": {},
   "outputs": [
    {
     "data": {
      "text/plain": [
       "(4, ['747593', '31531', '139324', '110'])"
      ]
     },
     "execution_count": 28,
     "metadata": {},
     "output_type": "execute_result"
    }
   ],
   "source": [
    "min_distances_with_path['170677']"
   ]
  },
  {
   "cell_type": "markdown",
   "id": "30a61127",
   "metadata": {},
   "source": [
    "Get the title of last page on the path from the page Analytics to the page Algorithm"
   ]
  },
  {
   "cell_type": "code",
   "execution_count": 42,
   "id": "0f6c187f",
   "metadata": {},
   "outputs": [
    {
     "data": {
      "text/plain": [
       "\"['Computer_science']\""
      ]
     },
     "execution_count": 42,
     "metadata": {},
     "output_type": "execute_result"
    }
   ],
   "source": [
    "str(df[df.pl_from == 110]['page_title'].unique())"
   ]
  },
  {
   "cell_type": "code",
   "execution_count": 50,
   "id": "e5ab2ab5",
   "metadata": {},
   "outputs": [],
   "source": [
    "def create_graph_with_distances(path, g):\n",
    "    with open(path) as file:\n",
    "        csvreader = csv.reader(file)\n",
    "        header = next(csvreader)\n",
    "        rows = list()\n",
    "        for row in csvreader:\n",
    "            edge = Edge(row[1], row[3], len(row[5]))\n",
    "            g.add_edge(edge)"
   ]
  },
  {
   "cell_type": "code",
   "execution_count": 51,
   "id": "b1a748e0",
   "metadata": {},
   "outputs": [],
   "source": [
    "graph_with_distances = Graph()\n",
    "create_graph_with_distances('simple_english_wiki/additional.csv', graph_with_distances)"
   ]
  },
  {
   "cell_type": "code",
   "execution_count": 54,
   "id": "0c9522ff",
   "metadata": {},
   "outputs": [],
   "source": [
    "min_dist = dijkstra(graph_with_distances, '747593')"
   ]
  },
  {
   "cell_type": "code",
   "execution_count": 55,
   "id": "8644fc4f",
   "metadata": {},
   "outputs": [
    {
     "data": {
      "text/plain": [
       "29"
      ]
     },
     "execution_count": 55,
     "metadata": {},
     "output_type": "execute_result"
    }
   ],
   "source": [
    "min_dist['170677']"
   ]
  },
  {
   "cell_type": "code",
   "execution_count": 56,
   "id": "86f0e394",
   "metadata": {},
   "outputs": [],
   "source": [
    "min_distances_with_path = dijkstra_with_path(graph_with_distances, '747593')"
   ]
  },
  {
   "cell_type": "code",
   "execution_count": 57,
   "id": "073ab383",
   "metadata": {},
   "outputs": [
    {
     "data": {
      "text/plain": [
       "(29, ['747593', '2958', '911', '6309', '5723', '4069'])"
      ]
     },
     "execution_count": 57,
     "metadata": {},
     "output_type": "execute_result"
    }
   ],
   "source": [
    "min_distances_with_path['170677']"
   ]
  },
  {
   "cell_type": "code",
   "execution_count": 58,
   "id": "e3a89eb6",
   "metadata": {},
   "outputs": [
    {
     "data": {
      "text/plain": [
       "\"['Logic']\""
      ]
     },
     "execution_count": 58,
     "metadata": {},
     "output_type": "execute_result"
    }
   ],
   "source": [
    "str(df[df.pl_from == 4069]['page_title'].unique())"
   ]
  }
 ],
 "metadata": {
  "kernelspec": {
   "display_name": "Python 3 (ipykernel)",
   "language": "python",
   "name": "python3"
  },
  "language_info": {
   "codemirror_mode": {
    "name": "ipython",
    "version": 3
   },
   "file_extension": ".py",
   "mimetype": "text/x-python",
   "name": "python",
   "nbconvert_exporter": "python",
   "pygments_lexer": "ipython3",
   "version": "3.8.9"
  }
 },
 "nbformat": 4,
 "nbformat_minor": 5
}
